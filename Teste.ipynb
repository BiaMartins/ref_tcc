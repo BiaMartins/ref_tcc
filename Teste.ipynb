{
 "cells": [
  {
   "cell_type": "code",
   "execution_count": 11,
   "metadata": {
    "scrolled": false
   },
   "outputs": [
    {
     "name": "stderr",
     "output_type": "stream",
     "text": [
      "C:\\Users\\Bia Martins\\Anaconda3\\lib\\site-packages\\theano\\tensor\\nnet\\conv.py:98: UserWarning: theano.tensor.nnet.conv.conv2d is deprecated. Use theano.tensor.nnet.conv2d instead.\n",
      "  warnings.warn(\"theano.tensor.nnet.conv.conv2d is deprecated.\"\n"
     ]
    }
   ],
   "source": [
    "from keras.models import load_model\n",
    "model = load_model(\"smile-20.h5\")"
   ]
  },
  {
   "cell_type": "code",
   "execution_count": 12,
   "metadata": {
    "scrolled": true
   },
   "outputs": [
    {
     "name": "stdout",
     "output_type": "stream",
     "text": [
      "['SMILEsmileD-master/SMILEs/testes/negativo/4.jpg', 'SMILEsmileD-master/SMILEs/testes/negativo/5.jpg', 'SMILEsmileD-master/SMILEs/testes/negativo/7.jpg', 'SMILEsmileD-master/SMILEs/testes/negativo/8.jpg', 'SMILEsmileD-master/SMILEs/testes/negativo/9.jpg']\n"
     ]
    }
   ],
   "source": [
    "from utils import list_all_files\n",
    "positive_paths = list(list_all_files('SMILEsmileD-master/SMILEs/testes/negativo/', ['.jpg']))\n",
    "print(positive_paths)"
   ]
  },
  {
   "cell_type": "code",
   "execution_count": 13,
   "metadata": {},
   "outputs": [
    {
     "name": "stdout",
     "output_type": "stream",
     "text": [
      "Wall time: 225 ms\n",
      "[[[0.54509807]\n",
      "  [0.5137255 ]\n",
      "  [0.6931372 ]\n",
      "  ...\n",
      "  [0.6313726 ]\n",
      "  [0.5882353 ]\n",
      "  [0.5754902 ]]\n",
      "\n",
      " [[0.5901961 ]\n",
      "  [0.5715686 ]\n",
      "  [0.6911765 ]\n",
      "  ...\n",
      "  [0.6813725 ]\n",
      "  [0.56666666]\n",
      "  [0.55588233]]\n",
      "\n",
      " [[0.4990196 ]\n",
      "  [0.6215686 ]\n",
      "  [0.6617647 ]\n",
      "  ...\n",
      "  [0.6745098 ]\n",
      "  [0.63529414]\n",
      "  [0.59117645]]\n",
      "\n",
      " ...\n",
      "\n",
      " [[0.4509804 ]\n",
      "  [0.52254903]\n",
      "  [0.16568628]\n",
      "  ...\n",
      "  [0.32156864]\n",
      "  [0.46862745]\n",
      "  [0.45588234]]\n",
      "\n",
      " [[0.5107843 ]\n",
      "  [0.42843136]\n",
      "  [0.36960784]\n",
      "  ...\n",
      "  [0.3745098 ]\n",
      "  [0.4617647 ]\n",
      "  [0.37745097]]\n",
      "\n",
      " [[0.74215686]\n",
      "  [0.41470587]\n",
      "  [0.44313726]\n",
      "  ...\n",
      "  [0.40980393]\n",
      "  [0.40098038]\n",
      "  [0.36078432]]]\n"
     ]
    }
   ],
   "source": [
    "import numpy as np\n",
    "from skimage.measure import block_reduce\n",
    "from skimage.io import imread\n",
    "\n",
    "def examples_to_dataset(examples, block_size=2):\n",
    "    X = []\n",
    "    for path in examples:\n",
    "        img = imread(path, as_grey=True)\n",
    "        img = block_reduce(img, block_size=(block_size, block_size), func=np.mean)\n",
    "        X.append(img)\n",
    "    return np.asarray(X)\n",
    "\n",
    "%time X= examples_to_dataset(positive_paths)\n",
    "X = X.astype(np.float32)/255.\n",
    "X = np.expand_dims(X, axis=-1)\n",
    "print(X[0])"
   ]
  },
  {
   "cell_type": "code",
   "execution_count": 14,
   "metadata": {
    "scrolled": false
   },
   "outputs": [
    {
     "name": "stderr",
     "output_type": "stream",
     "text": [
      "C:\\Users\\Bia Martins\\Anaconda3\\lib\\site-packages\\theano\\tensor\\nnet\\conv.py:98: UserWarning: theano.tensor.nnet.conv.conv2d is deprecated. Use theano.tensor.nnet.conv2d instead.\n",
      "  warnings.warn(\"theano.tensor.nnet.conv.conv2d is deprecated.\"\n"
     ]
    },
    {
     "name": "stdout",
     "output_type": "stream",
     "text": [
      "[0 0 0 0 0]\n"
     ]
    }
   ],
   "source": [
    "pred = model.predict_classes(X)\n",
    "print(pred)"
   ]
  }
 ],
 "metadata": {
  "kernelspec": {
   "display_name": "Python 3",
   "language": "python",
   "name": "python3"
  },
  "language_info": {
   "codemirror_mode": {
    "name": "ipython",
    "version": 3
   },
   "file_extension": ".py",
   "mimetype": "text/x-python",
   "name": "python",
   "nbconvert_exporter": "python",
   "pygments_lexer": "ipython3",
   "version": "3.6.4"
  }
 },
 "nbformat": 4,
 "nbformat_minor": 2
}
