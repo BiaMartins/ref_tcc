{
 "cells": [
  {
   "cell_type": "code",
   "execution_count": 1,
   "metadata": {},
   "outputs": [
    {
     "name": "stdout",
     "output_type": "stream",
     "text": [
      "loaded 9475 negative examples\n",
      "loaded 3690 positive examples\n"
     ]
    }
   ],
   "source": [
    "\n",
    "from utils import list_all_files\n",
    "negative_paths = list(list_all_files('SMILEsmileD-master/SMILEs/negatives/negatives7/', ['.jpg']))\n",
    "print('loaded', len(negative_paths), 'negative examples')\n",
    "positive_paths = list(list_all_files('SMILEsmileD-master/SMILEs/positives/positives7/', ['.jpg']))\n",
    "print('loaded', len(positive_paths), 'positive examples')\n",
    "examples = [(path, 0) for path in negative_paths] + [(path, 1) for path in positive_paths]"
   ]
  },
  {
   "cell_type": "code",
   "execution_count": 2,
   "metadata": {},
   "outputs": [
    {
     "name": "stdout",
     "output_type": "stream",
     "text": [
      "Wall time: 7min 27s\n"
     ]
    }
   ],
   "source": [
    "import numpy as np\n",
    "from skimage.measure import block_reduce\n",
    "from skimage.io import imread\n",
    "\n",
    "def examples_to_dataset(examples, block_size=2):\n",
    "    X = []\n",
    "    y = []\n",
    "    for path, label in examples:\n",
    "        img = imread(path, as_grey=True)\n",
    "        img = block_reduce(img, block_size=(block_size, block_size), func=np.mean)\n",
    "        X.append(img)\n",
    "        y.append(label)\n",
    "    return np.asarray(X), np.asarray(y)\n",
    "\n",
    "%time X, y = examples_to_dataset(examples)"
   ]
  },
  {
   "cell_type": "code",
   "execution_count": 3,
   "metadata": {
    "scrolled": true
   },
   "outputs": [
    {
     "name": "stdout",
     "output_type": "stream",
     "text": [
      "[[129.5  139.5  146.   ... 112.25 101.    75.  ]\n",
      " [128.5  134.   141.   ... 121.5  119.25 104.75]\n",
      " [125.25 132.5  140.25 ... 121.25 119.5  120.75]\n",
      " ...\n",
      " [ 71.25  70.5   71.   ...  94.75  79.75  79.25]\n",
      " [ 70.25  69.75  71.75 ...  84.5   80.25  68.25]\n",
      " [ 71.    69.75  70.75 ...  66.5   65.5   52.25]]\n"
     ]
    }
   ],
   "source": [
    "print(X[0])"
   ]
  },
  {
   "cell_type": "code",
   "execution_count": 4,
   "metadata": {},
   "outputs": [
    {
     "name": "stdout",
     "output_type": "stream",
     "text": [
      "float32 0.0 1.0 (13165, 32, 32)\n",
      "int32 0 1 (13165,)\n"
     ]
    }
   ],
   "source": [
    "\n",
    "X = X.astype(np.float32) / 255.\n",
    "y = y.astype(np.int32)\n",
    "print(X.dtype, X.min(), X.max(), X.shape)\n",
    "print(y.dtype, y.min(), y.max(), y.shape)"
   ]
  },
  {
   "cell_type": "code",
   "execution_count": null,
   "metadata": {},
   "outputs": [],
   "source": []
  }
 ],
 "metadata": {
  "kernelspec": {
   "display_name": "Python 3",
   "language": "python",
   "name": "python3"
  },
  "language_info": {
   "codemirror_mode": {
    "name": "ipython",
    "version": 3
   },
   "file_extension": ".py",
   "mimetype": "text/x-python",
   "name": "python",
   "nbconvert_exporter": "python",
   "pygments_lexer": "ipython3",
   "version": "3.6.4"
  }
 },
 "nbformat": 4,
 "nbformat_minor": 2
}
